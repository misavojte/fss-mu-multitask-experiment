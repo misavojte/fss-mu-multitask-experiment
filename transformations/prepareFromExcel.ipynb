{
 "cells": [
  {
   "cell_type": "code",
   "execution_count": 4,
   "metadata": {},
   "outputs": [
    {
     "name": "stdout",
     "output_type": "stream",
     "text": [
      "DataFrame Columns: ['ID', 'M', '1', '2', '3', '4']\n",
      "Data has been written to ../src/lib/data/mathStimuli.ts\n"
     ]
    }
   ],
   "source": [
    "import pandas as pd\n",
    "\n",
    "# Read the Excel file\n",
    "file_path = './mathStimuli.xlsx'  # Replace with the actual file path\n",
    "df = pd.read_excel(file_path)\n",
    "\n",
    "# Convert column names to strings and strip whitespace\n",
    "df.columns = df.columns.map(str).str.strip()\n",
    "\n",
    "# Print column names for debugging\n",
    "print(\"DataFrame Columns:\", df.columns.tolist())\n",
    "\n",
    "# Generate the TypeScript array of objects\n",
    "ts_objects = f\"\"\"\n",
    "import type {{ ITaskPatternMatchingObjectText }} from \"$lib/interfaces/ITaskHandler\";\n",
    "/*\n",
    "Automatically generated stimuli data for PatternMatching from the Excel sheet\n",
    "*/\n",
    "export const mathStimuli: ITaskPatternMatchingObjectText[] = [\\n\"\"\"\n",
    "\n",
    "# Adjust response_columns based on actual column names\n",
    "response_columns = ['1', '2', '3', '4']  # Adjust as necessary\n",
    "\n",
    "for _, row in df.iterrows():\n",
    "    responses = []\n",
    "    for resp_id in response_columns:\n",
    "        if resp_id in row:\n",
    "            content = row[resp_id]\n",
    "            if pd.notnull(content):\n",
    "                # Ensure content is a string without commas or decimals\n",
    "                content = str(int(float(content))) if isinstance(content, (int, float)) else str(content)\n",
    "                # Escape backticks and backslashes in content\n",
    "                content = content.replace('\\\\', '\\\\\\\\').replace('`', '\\\\`')\n",
    "                responses.append(f\"{{ id: '{resp_id}', content: `{content}` }}\")\n",
    "    responses_str = \",\\n            \".join(responses)\n",
    "    # Escape backticks and backslashes in matrixContent\n",
    "    matrix_content = str(row['M']).replace('\\\\', '\\\\\\\\').replace('`', '\\\\`')\n",
    "    ts_objects += f\"\"\"  {{\n",
    "        type: 'text',\n",
    "        id: '{row['ID']}',\n",
    "        matrixContent: `{matrix_content}`,\n",
    "        responses: [\n",
    "            {responses_str}\n",
    "        ]\n",
    "      }},\n",
    "\"\"\"\n",
    "\n",
    "ts_objects += \"];\"\n",
    "\n",
    "# Define the path to save the TypeScript file\n",
    "output_file_path = '../src/lib/data/mathStimuli.ts'\n",
    "\n",
    "# Write the TypeScript constant object array to the file\n",
    "with open(output_file_path, 'w', encoding='utf-8') as file:\n",
    "    file.write(ts_objects)\n",
    "\n",
    "print(f\"Data has been written to {output_file_path}\")\n"
   ]
  }
 ],
 "metadata": {
  "kernelspec": {
   "display_name": "base",
   "language": "python",
   "name": "python3"
  },
  "language_info": {
   "codemirror_mode": {
    "name": "ipython",
    "version": 3
   },
   "file_extension": ".py",
   "mimetype": "text/x-python",
   "name": "python",
   "nbconvert_exporter": "python",
   "pygments_lexer": "ipython3",
   "version": "3.12.9"
  }
 },
 "nbformat": 4,
 "nbformat_minor": 2
}
